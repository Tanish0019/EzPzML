{
 "cells": [
  {
   "cell_type": "code",
   "execution_count": 67,
   "metadata": {},
   "outputs": [],
   "source": [
    "from sagemaker.tensorflow.model import TensorFlowModel\n",
    "from sagemaker.session import Session\n",
    "import sagemaker\n",
    "import sys,os\n",
    "import tarfile"
   ]
  },
  {
   "cell_type": "code",
   "execution_count": 61,
   "metadata": {},
   "outputs": [],
   "source": [
    "folder_path = \"Hot-DOG\"\n",
    "output_data_path = 'data.tar.gz'\n",
    "role = \"arn:aws:iam::787258559497:role/sagemaker-test\"\n",
    "DATASET_NAME = \"Hot-DOG\"\n",
    "#sagemaker_session = Session()"
   ]
  },
  {
   "cell_type": "code",
   "execution_count": 62,
   "metadata": {},
   "outputs": [
    {
     "name": "stdout",
     "output_type": "stream",
     "text": [
      "env: BASE_DIR=/tmp\n",
      "env: S3_DATA_BUCKET_NAME=$data_bucket_name\n",
      "env: DATASET_NAME=data\n",
      "env: IM2REC=/Users/mashex/anaconda3/lib/python3.7/site-packages/mxnet/tools/im2rec.py\n"
     ]
    }
   ],
   "source": [
    "base_dir='/tmp'\n",
    "\n",
    "%env BASE_DIR=$base_dir\n",
    "%env S3_DATA_BUCKET_NAME = $data_bucket_name\n",
    "%env DATASET_NAME = $dataset_name\n",
    "\n",
    "suffix='/mxnet/tools/im2rec.py'\n",
    "im2rec = list(filter( (lambda x: os.path.isfile(x + suffix )), sys.path))[0] + suffix\n",
    "%env IM2REC=$im2rec"
   ]
  },
  {
   "cell_type": "code",
   "execution_count": 63,
   "metadata": {},
   "outputs": [
    {
     "name": "stdout",
     "output_type": "stream",
     "text": [
      "$dataset_name_classes\n",
      "$dataset_name_test.idx\n",
      "$dataset_name_test.lst\n",
      "$dataset_name_test.rec\n",
      "$dataset_name_train.idx\n",
      "$dataset_name_train.lst\n",
      "$dataset_name_train.rec\n",
      "hot_dog\n",
      "not_hot_dog\n",
      "Creating LST files\n",
      "Label classes:\n",
      "Creating RecordIO files\n",
      "Creating .rec file from /Users/mashex/Downloads/GitHub/Hackathon-Project-Innovaccer/src/Hot-DOG/data_train.lst in /Users/mashex/Downloads/GitHub/Hackathon-Project-Innovaccer/src/Hot-DOG\n",
      "Creating .rec file from /Users/mashex/Downloads/GitHub/Hackathon-Project-Innovaccer/src/Hot-DOG/data_test.lst in /Users/mashex/Downloads/GitHub/Hackathon-Project-Innovaccer/src/Hot-DOG\n",
      "-rw-r--r--  1 mashex  staff     0B Dec 14 12:46 data_test.rec\n",
      "-rw-r--r--  1 mashex  staff     0B Dec 14 12:46 data_train.rec\n"
     ]
    }
   ],
   "source": [
    "%%bash\n",
    "cd \"Hot-DOG\"\n",
    "ls\n",
    "rm *.rec\n",
    "rm *.lst\n",
    "echo \"Creating LST files\"\n",
    "python $IM2REC --list --recursive --pass-through --test-ratio=0.3 --train-ratio=0.7 $DATASET_NAME $DATASET_NAME > ${DATASET_NAME}_classes\n",
    "echo \"Label classes:\"\n",
    "cat ${DATASET_NAME}_classes\n",
    "\n",
    "# Then we create RecordIO files from the LST files\n",
    "echo \"Creating RecordIO files\"\n",
    "python $IM2REC --num-thread=4 ${DATASET_NAME}_train.lst $DATASET_NAME\n",
    "python $IM2REC --num-thread=4 ${DATASET_NAME}_test.lst $DATASET_NAME\n",
    "ls -lh *.rec"
   ]
  },
  {
   "cell_type": "code",
   "execution_count": 52,
   "metadata": {},
   "outputs": [],
   "source": [
    "bucket = sagemaker_session.default_bucket()\n",
    "dataset_name = \"data\""
   ]
  },
  {
   "cell_type": "code",
   "execution_count": 53,
   "metadata": {},
   "outputs": [],
   "source": [
    "!aws s3 rm s3://{bucket}/{dataset_name}/train --recursive\n",
    "!aws s3 rm s3://{bucket}/{dataset_name}/validation --recursive"
   ]
  },
  {
   "cell_type": "code",
   "execution_count": 65,
   "metadata": {},
   "outputs": [
    {
     "name": "stdout",
     "output_type": "stream",
     "text": [
      "upload: Hot-DOG/data_train.rec to s3://sagemaker-us-west-2-787258559497/data/train/data_train.rec\n",
      "upload: Hot-DOG/data_test.rec to s3://sagemaker-us-west-2-787258559497/data/validation/data_test.rec\n"
     ]
    }
   ],
   "source": [
    "s3train_path = 's3://{}/{}/train/'.format(bucket, dataset_name)\n",
    "s3validation_path = 's3://{}/{}/validation/'.format(bucket, dataset_name)\n",
    "!aws s3 cp {folder_path}/data_train.rec $s3train_path\n",
    "!aws s3 cp {folder_path}/data_test.rec $s3validation_path"
   ]
  },
  {
   "cell_type": "code",
   "execution_count": 68,
   "metadata": {},
   "outputs": [],
   "source": [
    "train_data = sagemaker.session.s3_input(\n",
    "    s3train_path, \n",
    "    distribution='FullyReplicated', \n",
    "    content_type='application/x-recordio', \n",
    "    s3_data_type='S3Prefix'\n",
    ")\n",
    "\n",
    "validation_data = sagemaker.session.s3_input(\n",
    "    s3validation_path, \n",
    "    distribution='FullyReplicated', \n",
    "    content_type='application/x-recordio', \n",
    "    s3_data_type='S3Prefix'\n",
    ")\n",
    "\n",
    "data_channels = {'train': train_data, 'validation': validation_data}"
   ]
  },
  {
   "cell_type": "code",
   "execution_count": null,
   "metadata": {},
   "outputs": [],
   "source": [
    "s3_output_location = 's3://{}/{}/output'.format(bucket, dataset_name)\n",
    "\n",
    "image_classifier = sagemaker.estimator.Estimator(\n",
    "    training_image,\n",
    "    role, \n",
    "    train_instance_count=1, \n",
    "    train_instance_type='ml.p3.2xlarge',\n",
    "    output_path=s3_output_location,\n",
    "    sagemaker_session=sess\n",
    ")"
   ]
  },
  {
   "cell_type": "code",
   "execution_count": null,
   "metadata": {},
   "outputs": [],
   "source": []
  },
  {
   "cell_type": "code",
   "execution_count": 10,
   "metadata": {},
   "outputs": [],
   "source": [
    "\n",
    "def tardir(path, tar_name):\n",
    "    with tarfile.open(tar_name, \"w:gz\") as tar_handle:\n",
    "        for root, dirs, files in os.walk(path):\n",
    "            for file in files:\n",
    "                tar_handle.add(os.path.join(root, file))\n",
    "tardir(folder_path, output_data_path)"
   ]
  },
  {
   "cell_type": "code",
   "execution_count": 16,
   "metadata": {},
   "outputs": [],
   "source": [
    "model_data = sagemaker_session.upload_data(path=output_data_path, key_prefix='data')"
   ]
  },
  {
   "cell_type": "code",
   "execution_count": 17,
   "metadata": {},
   "outputs": [
    {
     "data": {
      "text/plain": [
       "'s3://sagemaker-us-west-2-787258559497/data/data.tar.gz'"
      ]
     },
     "execution_count": 17,
     "metadata": {},
     "output_type": "execute_result"
    }
   ],
   "source": [
    "model_data"
   ]
  },
  {
   "cell_type": "code",
   "execution_count": 26,
   "metadata": {},
   "outputs": [
    {
     "data": {
      "text/plain": [
       "'/Users/mashex/anaconda3/lib/python3.7/site-packages/mxnet/tools/im2rec.py'"
      ]
     },
     "execution_count": 26,
     "metadata": {},
     "output_type": "execute_result"
    }
   ],
   "source": [
    "import sys\n",
    "suffix='/mxnet/tools/im2rec.py'\n",
    "list(filter( (lambda x: os.path.isfile(x + suffix )), sys.path))[0] + suffix"
   ]
  },
  {
   "cell_type": "code",
   "execution_count": null,
   "metadata": {},
   "outputs": [],
   "source": []
  }
 ],
 "metadata": {
  "kernelspec": {
   "display_name": "Python 3",
   "language": "python",
   "name": "python3"
  },
  "language_info": {
   "codemirror_mode": {
    "name": "ipython",
    "version": 3
   },
   "file_extension": ".py",
   "mimetype": "text/x-python",
   "name": "python",
   "nbconvert_exporter": "python",
   "pygments_lexer": "ipython3",
   "version": "3.7.3"
  }
 },
 "nbformat": 4,
 "nbformat_minor": 2
}
